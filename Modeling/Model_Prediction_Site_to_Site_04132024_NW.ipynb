{
 "cells": [
  {
   "cell_type": "markdown",
   "id": "56fcb095-e910-4176-8188-bddfc63d6014",
   "metadata": {},
   "source": [
    "# ISSR Predictions - Does the presence of an ISSR in one location predict the presence of an ISSR in another location?"
   ]
  },
  {
   "cell_type": "markdown",
   "id": "3e5998ad-fca3-4205-a796-70d8c6533d7a",
   "metadata": {},
   "source": [
    "## Imports"
   ]
  },
  {
   "cell_type": "code",
   "execution_count": 246,
   "id": "474912f8-0a14-4d56-8e8c-58afc8020b21",
   "metadata": {},
   "outputs": [],
   "source": [
    "#imports\n",
    "import pandas as pd\n",
    "import matplotlib.pyplot as plt\n",
    "import math\n",
    "import seaborn as sns\n",
    "import warnings\n",
    "import numpy as np\n",
    "from datetime import datetime, timedelta\n",
    "from sklearn.model_selection import train_test_split\n",
    "from sklearn.preprocessing import StandardScaler\n",
    "from sklearn.linear_model import LogisticRegression\n",
    "from sklearn.metrics import accuracy_score, confusion_matrix, classification_report\n",
    "from statsmodels.tsa.arima.model import ARIMA\n",
    "from sklearn.metrics import mean_squared_error, mean_absolute_error, r2_score\n",
    "import tensorflow as tf\n",
    "from tensorflow.keras.models import Sequential\n",
    "from tensorflow.keras.layers import LSTM, Dense\n",
    "from sklearn.preprocessing import MinMaxScaler\n",
    "from pandas.plotting import autocorrelation_plot\n",
    "import keras_tuner as kt\n",
    "from joblib import Parallel, delayed\n",
    "from tensorflow.keras.optimizers import Adam\n",
    "from imblearn.under_sampling import RandomUnderSampler\n",
    "from imblearn.over_sampling import RandomOverSampler, SMOTE\n",
    "from sklearn.ensemble import RandomForestClassifier"
   ]
  },
  {
   "cell_type": "markdown",
   "id": "36e6c098-d264-4c82-bdc6-50d4d36d7b6a",
   "metadata": {},
   "source": [
    "## Buffalo Dataset 2010 - 2024"
   ]
  },
  {
   "cell_type": "code",
   "execution_count": 155,
   "id": "0ed574b1-5229-49fe-ab7e-2c09cbf496c5",
   "metadata": {},
   "outputs": [],
   "source": [
    "#Load in the ISSR Dataset that covers 2010-2024\n",
    "data = pd.read_csv(\"C:/Users/Nicholas Weber/Downloads/Buffalo, NY_issr2010_2024.csv\")"
   ]
  },
  {
   "cell_type": "code",
   "execution_count": 200,
   "id": "a30bbc2f-02bc-4d25-9368-c085b59fff2e",
   "metadata": {},
   "outputs": [],
   "source": [
    "#Filter to 2010 and 2023. This will be used for training and testing\n",
    "df = data[(data['year'] >= 2010) & (data['year'] <= 2023) & (data['press'] != -9999)]"
   ]
  },
  {
   "cell_type": "code",
   "execution_count": 201,
   "id": "e5f245fc-4e1b-4d4e-84cc-e1c437b4744b",
   "metadata": {},
   "outputs": [],
   "source": [
    "#Convert categoricals into numerics to feed into our machine learning models\n",
    "warnings.filterwarnings(\"ignore\")\n",
    "df['issc'] = df['issc'].replace({'yes': 1, 'no': 0})"
   ]
  },
  {
   "cell_type": "code",
   "execution_count": 202,
   "id": "d8703e6d-8ba4-45f9-9061-b37dd4109de0",
   "metadata": {},
   "outputs": [],
   "source": [
    "#Create DataFrame with volume column. Volume is based off of the number of times per day that an issc was yes\n",
    "df['date'] = pd.to_datetime(df['date'])\n",
    "issc_counts_per_day = df[df['issc'] == 1].groupby(df['date'].dt.date).size()\n",
    "temp_count = df[df['temp_f'] < -42].groupby(df['date'].dt.date).size()\n",
    "rh_ice_count = df[df['rh_ice'] > 1].groupby(df['date'].dt.date).size()\n",
    "\n",
    "all_dates = pd.DataFrame(index=pd.date_range(start=df['date'].min(), end=df['date'].max(), freq='D'))\n",
    "issc_counts_per_day.name = 'issc_buffalo'\n",
    "temp_count.name = 'temp_volume_buffalo'\n",
    "rh_ice_count.name = 'rhi_volume_buffalo'\n",
    "\n",
    "df2 = all_dates.join(issc_counts_per_day, how='left').fillna(0)\n",
    "\n",
    "df3 = pd.merge(df2, temp_count, left_index = True, right_index = True, how = 'left').fillna(0)\n",
    "\n",
    "new_df = pd.merge(df3, rh_ice_count, left_index = True, right_index = True, how = 'left').fillna(0)"
   ]
  },
  {
   "cell_type": "code",
   "execution_count": 203,
   "id": "39fd6a9a-c864-47c2-82bd-bb7a52a0a8a2",
   "metadata": {},
   "outputs": [],
   "source": [
    "#Make ISSC_Buffalo binary 0 or 1 instances each day. \n",
    "new_df.loc[new_df['issc_buffalo'] > 0, 'issc_buffalo'] = 1"
   ]
  },
  {
   "cell_type": "code",
   "execution_count": null,
   "id": "f59ff2e5-99b7-42f5-b137-6c94ded2a23e",
   "metadata": {},
   "outputs": [],
   "source": []
  },
  {
   "cell_type": "markdown",
   "id": "532e6c79-460a-4409-8148-9b59e1c05244",
   "metadata": {},
   "source": [
    "## Upton Dataset 2010 - 2024"
   ]
  },
  {
   "cell_type": "code",
   "execution_count": 204,
   "id": "6f5e3d64-4594-4ecf-b5b4-3fa41e93bdb2",
   "metadata": {},
   "outputs": [],
   "source": [
    "#Load in Upton ISSR dataset\n",
    "data_upton = pd.read_csv(\"C:/Users/Nicholas Weber/Downloads/Upton, NY_issr2010_2024.csv\")"
   ]
  },
  {
   "cell_type": "code",
   "execution_count": 211,
   "id": "2a32d8cd-1c61-4d0e-a87e-d90e96e9e858",
   "metadata": {},
   "outputs": [],
   "source": [
    "#Filter to 2010 and 2023. This will be used for training and testing\n",
    "df_upton = data_upton[(data_upton['year'] >= 2010) & (data_upton['year'] <= 2023) & (data_upton['press'] != -9999)]"
   ]
  },
  {
   "cell_type": "code",
   "execution_count": 212,
   "id": "98f17217-3edc-418a-a345-dadc2f3f02b9",
   "metadata": {},
   "outputs": [],
   "source": [
    "#Convert categoricals into numerics to feed into our machine learning models\n",
    "warnings.filterwarnings(\"ignore\")\n",
    "df_upton['issc'] = df_upton['issc'].replace({'yes': 1, 'no': 0})"
   ]
  },
  {
   "cell_type": "code",
   "execution_count": 213,
   "id": "7f937de3-0baa-49c5-bb13-a374bbcf595a",
   "metadata": {},
   "outputs": [],
   "source": [
    "#Create DataFrame with volume column. Volume is based off of the number of times per day that an issc was yes\n",
    "df_upton['date'] = pd.to_datetime(df_upton['date'])\n",
    "issc_counts_per_day = df_upton[df_upton['issc'] == 1].groupby(df_upton['date'].dt.date).size()\n",
    "temp_count = df_upton[df_upton['temp_f'] < -42].groupby(df_upton['date'].dt.date).size()\n",
    "rh_ice_count = df_upton[df_upton['rh_ice'] > 1].groupby(df_upton['date'].dt.date).size()\n",
    "\n",
    "all_dates = pd.DataFrame(index=pd.date_range(start=df_upton['date'].min(), end=df_upton['date'].max(), freq='D'))\n",
    "issc_counts_per_day.name = 'issc_upton'\n",
    "temp_count.name = 'temp_volume_upton'\n",
    "rh_ice_count.name = 'rhi_volume_upton'\n",
    "\n",
    "df_upton2 = all_dates.join(issc_counts_per_day, how='left').fillna(0)\n",
    "\n",
    "df_upton3 = pd.merge(df_upton2, temp_count, left_index = True, right_index = True, how = 'left').fillna(0)\n",
    "\n",
    "new_df_upton = pd.merge(df_upton3, rh_ice_count, left_index = True, right_index = True, how = 'left').fillna(0)"
   ]
  },
  {
   "cell_type": "code",
   "execution_count": 214,
   "id": "ac41ee63-cb94-4085-8af2-86d370bd790a",
   "metadata": {},
   "outputs": [],
   "source": [
    "#Make ISSC Upton binary 0 or 1 instances each day. \n",
    "new_df_upton.loc[new_df_upton['issc_upton'] > 0, 'issc_upton'] = 1"
   ]
  },
  {
   "cell_type": "code",
   "execution_count": null,
   "id": "1cf5948d-4c43-48ed-ac6c-9e20688bfbad",
   "metadata": {},
   "outputs": [],
   "source": []
  },
  {
   "cell_type": "markdown",
   "id": "3409b857-bd69-49dd-a7bb-22248289f71e",
   "metadata": {},
   "source": [
    "## Combine Buffalo and Upton Datasets"
   ]
  },
  {
   "cell_type": "code",
   "execution_count": 215,
   "id": "6fe6b01d-3696-4aa8-b2a8-975875e0cf39",
   "metadata": {},
   "outputs": [],
   "source": [
    "#Do a join on the date index for both datasets\n",
    "combined_df = new_df.join(new_df_upton)"
   ]
  },
  {
   "cell_type": "code",
   "execution_count": 217,
   "id": "b69e823a-8475-4d49-8fbb-d706dd6eb145",
   "metadata": {},
   "outputs": [],
   "source": [
    "#Create Ceiling and Floors for each day for Buffalo\n",
    "max_ceiling = df.groupby(df['date'])['ceiling'].max()\n",
    "max_floor = df.groupby(df['date'])['floor'].max()\n",
    "\n",
    "combined_df = combined_df.join(max_ceiling)\n",
    "combined_df = combined_df.join(max_floor)\n",
    "combined_df.rename(columns = {'ceiling': 'ceiling_buf', 'floor': 'floor_buf'}, inplace = True)"
   ]
  },
  {
   "cell_type": "code",
   "execution_count": 218,
   "id": "1b5f9613-b12a-450d-b6c6-6cea29f0feb1",
   "metadata": {},
   "outputs": [],
   "source": [
    "#Create Ceiling and Floors for each day for Upton\n",
    "max_ceiling_upton = df_upton.groupby(df_upton['date'])['ceiling'].max()\n",
    "max_floor_upton = df_upton.groupby(df_upton['date'])['floor'].max()\n",
    "\n",
    "combined_df = combined_df.join(max_ceiling_upton)\n",
    "combined_df = combined_df.join(max_floor_upton)\n",
    "combined_df.rename(columns = {'ceiling': 'ceiling_upton', 'floor': 'floor_upton'}, inplace = True)"
   ]
  },
  {
   "cell_type": "code",
   "execution_count": 220,
   "id": "1b0239a8-342f-4131-843e-196d5baacb9e",
   "metadata": {},
   "outputs": [],
   "source": [
    "#If an instance of ceiling or floor is 0, make it equal it's corresponding ceiling or floor value. \n",
    "for index, row in combined_df.iterrows():\n",
    "    if row['ceiling_buf'] == 0:\n",
    "        combined_df.at[index, 'ceiling_buf'] = row['floor_buf']\n",
    "    if row['floor_buf'] == 0:\n",
    "        combined_df.at[index, 'floor_buf'] = row['ceiling_buf']\n",
    "    if row['ceiling_upton'] == 0:\n",
    "        combined_df.at[index, 'ceiling_upton'] = row['floor_upton']\n",
    "    if row['floor_upton'] == 0:\n",
    "        combined_df.at[index, 'floor_upton'] = row['ceiling_upton']"
   ]
  },
  {
   "cell_type": "code",
   "execution_count": 221,
   "id": "143b516d-e497-4795-8e7e-51ea909a06b1",
   "metadata": {},
   "outputs": [],
   "source": [
    "#Create vertical depth variables\n",
    "combined_df['vertical_depth_buf'] = combined_df['ceiling_buf'] - combined_df['floor_buf']\n",
    "combined_df['vertical_depth_upton'] = combined_df['ceiling_upton'] - combined_df['floor_upton']"
   ]
  },
  {
   "cell_type": "code",
   "execution_count": 222,
   "id": "7e4aa3e2-24f1-4262-9f94-26172e18e5dd",
   "metadata": {},
   "outputs": [],
   "source": [
    "#Fill in 0 for all NA values. If NA's are not filled in, we can not feed the data into machine learning models.\n",
    "combined_df.fillna(0, inplace = True)"
   ]
  },
  {
   "cell_type": "code",
   "execution_count": 223,
   "id": "3cfd2724-29db-4612-94b6-3a7e0d60e71e",
   "metadata": {},
   "outputs": [
    {
     "data": {
      "text/html": [
       "<div>\n",
       "<style scoped>\n",
       "    .dataframe tbody tr th:only-of-type {\n",
       "        vertical-align: middle;\n",
       "    }\n",
       "\n",
       "    .dataframe tbody tr th {\n",
       "        vertical-align: top;\n",
       "    }\n",
       "\n",
       "    .dataframe thead th {\n",
       "        text-align: right;\n",
       "    }\n",
       "</style>\n",
       "<table border=\"1\" class=\"dataframe\">\n",
       "  <thead>\n",
       "    <tr style=\"text-align: right;\">\n",
       "      <th></th>\n",
       "      <th>issc_buffalo</th>\n",
       "      <th>temp_volume_buffalo</th>\n",
       "      <th>rhi_volume_buffalo</th>\n",
       "      <th>issc_upton</th>\n",
       "      <th>temp_volume_upton</th>\n",
       "      <th>rhi_volume_upton</th>\n",
       "      <th>ceiling_buf</th>\n",
       "      <th>floor_buf</th>\n",
       "      <th>ceiling_upton</th>\n",
       "      <th>floor_upton</th>\n",
       "      <th>vertical_depth_buf</th>\n",
       "      <th>vertical_depth_upton</th>\n",
       "    </tr>\n",
       "  </thead>\n",
       "  <tbody>\n",
       "    <tr>\n",
       "      <th>2010-01-01</th>\n",
       "      <td>0.0</td>\n",
       "      <td>29.0</td>\n",
       "      <td>0.0</td>\n",
       "      <td>0.0</td>\n",
       "      <td>31.0</td>\n",
       "      <td>3.0</td>\n",
       "      <td>0.00</td>\n",
       "      <td>0.00</td>\n",
       "      <td>0.00</td>\n",
       "      <td>0.00</td>\n",
       "      <td>0.00</td>\n",
       "      <td>0.0</td>\n",
       "    </tr>\n",
       "    <tr>\n",
       "      <th>2010-01-02</th>\n",
       "      <td>0.0</td>\n",
       "      <td>39.0</td>\n",
       "      <td>2.0</td>\n",
       "      <td>0.0</td>\n",
       "      <td>34.0</td>\n",
       "      <td>0.0</td>\n",
       "      <td>0.00</td>\n",
       "      <td>0.00</td>\n",
       "      <td>0.00</td>\n",
       "      <td>0.00</td>\n",
       "      <td>0.00</td>\n",
       "      <td>0.0</td>\n",
       "    </tr>\n",
       "    <tr>\n",
       "      <th>2010-01-03</th>\n",
       "      <td>0.0</td>\n",
       "      <td>42.0</td>\n",
       "      <td>2.0</td>\n",
       "      <td>0.0</td>\n",
       "      <td>37.0</td>\n",
       "      <td>0.0</td>\n",
       "      <td>0.00</td>\n",
       "      <td>0.00</td>\n",
       "      <td>0.00</td>\n",
       "      <td>0.00</td>\n",
       "      <td>0.00</td>\n",
       "      <td>0.0</td>\n",
       "    </tr>\n",
       "    <tr>\n",
       "      <th>2010-01-04</th>\n",
       "      <td>0.0</td>\n",
       "      <td>35.0</td>\n",
       "      <td>11.0</td>\n",
       "      <td>0.0</td>\n",
       "      <td>42.0</td>\n",
       "      <td>4.0</td>\n",
       "      <td>0.00</td>\n",
       "      <td>0.00</td>\n",
       "      <td>0.00</td>\n",
       "      <td>0.00</td>\n",
       "      <td>0.00</td>\n",
       "      <td>0.0</td>\n",
       "    </tr>\n",
       "    <tr>\n",
       "      <th>2010-01-05</th>\n",
       "      <td>0.0</td>\n",
       "      <td>29.0</td>\n",
       "      <td>5.0</td>\n",
       "      <td>0.0</td>\n",
       "      <td>28.0</td>\n",
       "      <td>0.0</td>\n",
       "      <td>0.00</td>\n",
       "      <td>0.00</td>\n",
       "      <td>0.00</td>\n",
       "      <td>0.00</td>\n",
       "      <td>0.00</td>\n",
       "      <td>0.0</td>\n",
       "    </tr>\n",
       "    <tr>\n",
       "      <th>...</th>\n",
       "      <td>...</td>\n",
       "      <td>...</td>\n",
       "      <td>...</td>\n",
       "      <td>...</td>\n",
       "      <td>...</td>\n",
       "      <td>...</td>\n",
       "      <td>...</td>\n",
       "      <td>...</td>\n",
       "      <td>...</td>\n",
       "      <td>...</td>\n",
       "      <td>...</td>\n",
       "      <td>...</td>\n",
       "    </tr>\n",
       "    <tr>\n",
       "      <th>2023-12-27</th>\n",
       "      <td>1.0</td>\n",
       "      <td>71.0</td>\n",
       "      <td>1.0</td>\n",
       "      <td>0.0</td>\n",
       "      <td>39.0</td>\n",
       "      <td>0.0</td>\n",
       "      <td>30248.73</td>\n",
       "      <td>30248.73</td>\n",
       "      <td>0.00</td>\n",
       "      <td>0.00</td>\n",
       "      <td>0.00</td>\n",
       "      <td>0.0</td>\n",
       "    </tr>\n",
       "    <tr>\n",
       "      <th>2023-12-28</th>\n",
       "      <td>0.0</td>\n",
       "      <td>51.0</td>\n",
       "      <td>2.0</td>\n",
       "      <td>1.0</td>\n",
       "      <td>32.0</td>\n",
       "      <td>14.0</td>\n",
       "      <td>0.00</td>\n",
       "      <td>0.00</td>\n",
       "      <td>29010.95</td>\n",
       "      <td>29010.95</td>\n",
       "      <td>0.00</td>\n",
       "      <td>0.0</td>\n",
       "    </tr>\n",
       "    <tr>\n",
       "      <th>2023-12-29</th>\n",
       "      <td>0.0</td>\n",
       "      <td>61.0</td>\n",
       "      <td>6.0</td>\n",
       "      <td>0.0</td>\n",
       "      <td>45.0</td>\n",
       "      <td>0.0</td>\n",
       "      <td>0.00</td>\n",
       "      <td>0.00</td>\n",
       "      <td>0.00</td>\n",
       "      <td>0.00</td>\n",
       "      <td>0.00</td>\n",
       "      <td>0.0</td>\n",
       "    </tr>\n",
       "    <tr>\n",
       "      <th>2023-12-30</th>\n",
       "      <td>1.0</td>\n",
       "      <td>81.0</td>\n",
       "      <td>25.0</td>\n",
       "      <td>0.0</td>\n",
       "      <td>33.0</td>\n",
       "      <td>0.0</td>\n",
       "      <td>29166.97</td>\n",
       "      <td>28099.86</td>\n",
       "      <td>0.00</td>\n",
       "      <td>0.00</td>\n",
       "      <td>1067.11</td>\n",
       "      <td>0.0</td>\n",
       "    </tr>\n",
       "    <tr>\n",
       "      <th>2023-12-31</th>\n",
       "      <td>0.0</td>\n",
       "      <td>79.0</td>\n",
       "      <td>14.0</td>\n",
       "      <td>0.0</td>\n",
       "      <td>49.0</td>\n",
       "      <td>0.0</td>\n",
       "      <td>0.00</td>\n",
       "      <td>0.00</td>\n",
       "      <td>0.00</td>\n",
       "      <td>0.00</td>\n",
       "      <td>0.00</td>\n",
       "      <td>0.0</td>\n",
       "    </tr>\n",
       "  </tbody>\n",
       "</table>\n",
       "<p>5113 rows × 12 columns</p>\n",
       "</div>"
      ],
      "text/plain": [
       "            issc_buffalo  temp_volume_buffalo  rhi_volume_buffalo  issc_upton  \\\n",
       "2010-01-01           0.0                 29.0                 0.0         0.0   \n",
       "2010-01-02           0.0                 39.0                 2.0         0.0   \n",
       "2010-01-03           0.0                 42.0                 2.0         0.0   \n",
       "2010-01-04           0.0                 35.0                11.0         0.0   \n",
       "2010-01-05           0.0                 29.0                 5.0         0.0   \n",
       "...                  ...                  ...                 ...         ...   \n",
       "2023-12-27           1.0                 71.0                 1.0         0.0   \n",
       "2023-12-28           0.0                 51.0                 2.0         1.0   \n",
       "2023-12-29           0.0                 61.0                 6.0         0.0   \n",
       "2023-12-30           1.0                 81.0                25.0         0.0   \n",
       "2023-12-31           0.0                 79.0                14.0         0.0   \n",
       "\n",
       "            temp_volume_upton  rhi_volume_upton  ceiling_buf  floor_buf  \\\n",
       "2010-01-01               31.0               3.0         0.00       0.00   \n",
       "2010-01-02               34.0               0.0         0.00       0.00   \n",
       "2010-01-03               37.0               0.0         0.00       0.00   \n",
       "2010-01-04               42.0               4.0         0.00       0.00   \n",
       "2010-01-05               28.0               0.0         0.00       0.00   \n",
       "...                       ...               ...          ...        ...   \n",
       "2023-12-27               39.0               0.0     30248.73   30248.73   \n",
       "2023-12-28               32.0              14.0         0.00       0.00   \n",
       "2023-12-29               45.0               0.0         0.00       0.00   \n",
       "2023-12-30               33.0               0.0     29166.97   28099.86   \n",
       "2023-12-31               49.0               0.0         0.00       0.00   \n",
       "\n",
       "            ceiling_upton  floor_upton  vertical_depth_buf  \\\n",
       "2010-01-01           0.00         0.00                0.00   \n",
       "2010-01-02           0.00         0.00                0.00   \n",
       "2010-01-03           0.00         0.00                0.00   \n",
       "2010-01-04           0.00         0.00                0.00   \n",
       "2010-01-05           0.00         0.00                0.00   \n",
       "...                   ...          ...                 ...   \n",
       "2023-12-27           0.00         0.00                0.00   \n",
       "2023-12-28       29010.95     29010.95                0.00   \n",
       "2023-12-29           0.00         0.00                0.00   \n",
       "2023-12-30           0.00         0.00             1067.11   \n",
       "2023-12-31           0.00         0.00                0.00   \n",
       "\n",
       "            vertical_depth_upton  \n",
       "2010-01-01                   0.0  \n",
       "2010-01-02                   0.0  \n",
       "2010-01-03                   0.0  \n",
       "2010-01-04                   0.0  \n",
       "2010-01-05                   0.0  \n",
       "...                          ...  \n",
       "2023-12-27                   0.0  \n",
       "2023-12-28                   0.0  \n",
       "2023-12-29                   0.0  \n",
       "2023-12-30                   0.0  \n",
       "2023-12-31                   0.0  \n",
       "\n",
       "[5113 rows x 12 columns]"
      ]
     },
     "execution_count": 223,
     "metadata": {},
     "output_type": "execute_result"
    }
   ],
   "source": [
    "#Final dataset to be fed into our models\n",
    "combined_df"
   ]
  },
  {
   "cell_type": "code",
   "execution_count": null,
   "id": "b8452ff1-44e0-4023-9f5a-0722aec9e6e8",
   "metadata": {},
   "outputs": [],
   "source": []
  },
  {
   "cell_type": "markdown",
   "id": "0d387e54-0e53-4c55-b62a-d3f2735996c0",
   "metadata": {},
   "source": [
    "## Correlation between Buffalo and Upton"
   ]
  },
  {
   "cell_type": "code",
   "execution_count": 224,
   "id": "7b57d9b4-6df3-4742-9695-8724aa8c6d7d",
   "metadata": {},
   "outputs": [
    {
     "data": {
      "text/html": [
       "<div>\n",
       "<style scoped>\n",
       "    .dataframe tbody tr th:only-of-type {\n",
       "        vertical-align: middle;\n",
       "    }\n",
       "\n",
       "    .dataframe tbody tr th {\n",
       "        vertical-align: top;\n",
       "    }\n",
       "\n",
       "    .dataframe thead th {\n",
       "        text-align: right;\n",
       "    }\n",
       "</style>\n",
       "<table border=\"1\" class=\"dataframe\">\n",
       "  <thead>\n",
       "    <tr style=\"text-align: right;\">\n",
       "      <th></th>\n",
       "      <th>issc_buffalo</th>\n",
       "      <th>issc_upton</th>\n",
       "      <th>vertical_depth_buf</th>\n",
       "      <th>vertical_depth_upton</th>\n",
       "    </tr>\n",
       "  </thead>\n",
       "  <tbody>\n",
       "    <tr>\n",
       "      <th>issc_buffalo</th>\n",
       "      <td>1.000000</td>\n",
       "      <td>0.088311</td>\n",
       "      <td>0.454526</td>\n",
       "      <td>0.148990</td>\n",
       "    </tr>\n",
       "    <tr>\n",
       "      <th>issc_upton</th>\n",
       "      <td>0.088311</td>\n",
       "      <td>1.000000</td>\n",
       "      <td>0.057386</td>\n",
       "      <td>0.401581</td>\n",
       "    </tr>\n",
       "    <tr>\n",
       "      <th>vertical_depth_buf</th>\n",
       "      <td>0.454526</td>\n",
       "      <td>0.057386</td>\n",
       "      <td>1.000000</td>\n",
       "      <td>0.062583</td>\n",
       "    </tr>\n",
       "    <tr>\n",
       "      <th>vertical_depth_upton</th>\n",
       "      <td>0.148990</td>\n",
       "      <td>0.401581</td>\n",
       "      <td>0.062583</td>\n",
       "      <td>1.000000</td>\n",
       "    </tr>\n",
       "  </tbody>\n",
       "</table>\n",
       "</div>"
      ],
      "text/plain": [
       "                      issc_buffalo  issc_upton  vertical_depth_buf  \\\n",
       "issc_buffalo              1.000000    0.088311            0.454526   \n",
       "issc_upton                0.088311    1.000000            0.057386   \n",
       "vertical_depth_buf        0.454526    0.057386            1.000000   \n",
       "vertical_depth_upton      0.148990    0.401581            0.062583   \n",
       "\n",
       "                      vertical_depth_upton  \n",
       "issc_buffalo                      0.148990  \n",
       "issc_upton                        0.401581  \n",
       "vertical_depth_buf                0.062583  \n",
       "vertical_depth_upton              1.000000  "
      ]
     },
     "execution_count": 224,
     "metadata": {},
     "output_type": "execute_result"
    }
   ],
   "source": [
    "#Want to look a a small portion of the overall correlation plot\n",
    "combined_df[['issc_buffalo', 'issc_upton', 'vertical_depth_buf', 'vertical_depth_upton']].corr()"
   ]
  },
  {
   "cell_type": "code",
   "execution_count": 225,
   "id": "2bd0a08c-39c6-4858-9fec-21c61a39ef4e",
   "metadata": {},
   "outputs": [
    {
     "data": {
      "image/png": "[encoded data removed]",
      "text/plain": [
       "<Figure size 800x600 with 2 Axes>"
      ]
     },
     "metadata": {},
     "output_type": "display_data"
    }
   ],
   "source": [
    "#Plot the entire correlation plot between Buffalo and Upton\n",
    "plt.figure(figsize = (8,6))\n",
    "sns.heatmap(combined_df.corr(), annot =True, cmap = 'coolwarm', fmt = '.2f')\n",
    "plt.title('Correlation Plot Between Buffalo and Upton')\n",
    "plt.show()"
   ]
  },
  {
   "cell_type": "code",
   "execution_count": null,
   "id": "bae8f0ef-3781-4f13-99ad-902fc7055a81",
   "metadata": {},
   "outputs": [],
   "source": []
  },
  {
   "cell_type": "markdown",
   "id": "1682849c-aa96-4db8-ae5d-d2c76921c177",
   "metadata": {},
   "source": [
    "## Logisitc Regression for Classiciation"
   ]
  },
  {
   "cell_type": "code",
   "execution_count": 226,
   "id": "d4f3d598-c08a-436e-a2d9-dc061ee316d0",
   "metadata": {},
   "outputs": [],
   "source": [
    "#Was asked to see how predictive an ISSR in one site and it's vertical depth can predict an instance of an ISSR at the other site.\n",
    "X = combined_df[['issc_buffalo', 'vertical_depth_buf']]\n",
    "y = combined_df['issc_upton']"
   ]
  },
  {
   "cell_type": "code",
   "execution_count": 227,
   "id": "8ad8d329-ce3d-4487-8325-e4a47d382c08",
   "metadata": {},
   "outputs": [],
   "source": [
    "#Train/test split\n",
    "X_train, X_test, y_train, y_test = train_test_split(X, y, test_size = 0.2, random_state = 42)"
   ]
  },
  {
   "cell_type": "code",
   "execution_count": 228,
   "id": "5d2a718d-8e91-4822-946d-1acdd51a9799",
   "metadata": {},
   "outputs": [],
   "source": [
    "#Assign model as logisitic regression\n",
    "model = LogisticRegression()"
   ]
  },
  {
   "cell_type": "code",
   "execution_count": 229,
   "id": "7a054ca3-04ae-44fa-9249-d61aa978b183",
   "metadata": {},
   "outputs": [
    {
     "data": {
      "text/html": [
       "<style>#sk-container-id-16 {color: black;}#sk-container-id-16 pre{padding: 0;}#sk-container-id-16 div.sk-toggleable {background-color: white;}#sk-container-id-16 label.sk-toggleable__label {cursor: pointer;display: block;width: 100%;margin-bottom: 0;padding: 0.3em;box-sizing: border-box;text-align: center;}#sk-container-id-16 label.sk-toggleable__label-arrow:before {content: \"▸\";float: left;margin-right: 0.25em;color: #696969;}#sk-container-id-16 label.sk-toggleable__label-arrow:hover:before {color: black;}#sk-container-id-16 div.sk-estimator:hover label.sk-toggleable__label-arrow:before {color: black;}#sk-container-id-16 div.sk-toggleable__content {max-height: 0;max-width: 0;overflow: hidden;text-align: left;background-color: #f0f8ff;}#sk-container-id-16 div.sk-toggleable__content pre {margin: 0.2em;color: black;border-radius: 0.25em;background-color: #f0f8ff;}#sk-container-id-16 input.sk-toggleable__control:checked~div.sk-toggleable__content {max-height: 200px;max-width: 100%;overflow: auto;}#sk-container-id-16 input.sk-toggleable__control:checked~label.sk-toggleable__label-arrow:before {content: \"▾\";}#sk-container-id-16 div.sk-estimator input.sk-toggleable__control:checked~label.sk-toggleable__label {background-color: #d4ebff;}#sk-container-id-16 div.sk-label input.sk-toggleable__control:checked~label.sk-toggleable__label {background-color: #d4ebff;}#sk-container-id-16 input.sk-hidden--visually {border: 0;clip: rect(1px 1px 1px 1px);clip: rect(1px, 1px, 1px, 1px);height: 1px;margin: -1px;overflow: hidden;padding: 0;position: absolute;width: 1px;}#sk-container-id-16 div.sk-estimator {font-family: monospace;background-color: #f0f8ff;border: 1px dotted black;border-radius: 0.25em;box-sizing: border-box;margin-bottom: 0.5em;}#sk-container-id-16 div.sk-estimator:hover {background-color: #d4ebff;}#sk-container-id-16 div.sk-parallel-item::after {content: \"\";width: 100%;border-bottom: 1px solid gray;flex-grow: 1;}#sk-container-id-16 div.sk-label:hover label.sk-toggleable__label {background-color: #d4ebff;}#sk-container-id-16 div.sk-serial::before {content: \"\";position: absolute;border-left: 1px solid gray;box-sizing: border-box;top: 0;bottom: 0;left: 50%;z-index: 0;}#sk-container-id-16 div.sk-serial {display: flex;flex-direction: column;align-items: center;background-color: white;padding-right: 0.2em;padding-left: 0.2em;position: relative;}#sk-container-id-16 div.sk-item {position: relative;z-index: 1;}#sk-container-id-16 div.sk-parallel {display: flex;align-items: stretch;justify-content: center;background-color: white;position: relative;}#sk-container-id-16 div.sk-item::before, #sk-container-id-16 div.sk-parallel-item::before {content: \"\";position: absolute;border-left: 1px solid gray;box-sizing: border-box;top: 0;bottom: 0;left: 50%;z-index: -1;}#sk-container-id-16 div.sk-parallel-item {display: flex;flex-direction: column;z-index: 1;position: relative;background-color: white;}#sk-container-id-16 div.sk-parallel-item:first-child::after {align-self: flex-end;width: 50%;}#sk-container-id-16 div.sk-parallel-item:last-child::after {align-self: flex-start;width: 50%;}#sk-container-id-16 div.sk-parallel-item:only-child::after {width: 0;}#sk-container-id-16 div.sk-dashed-wrapped {border: 1px dashed gray;margin: 0 0.4em 0.5em 0.4em;box-sizing: border-box;padding-bottom: 0.4em;background-color: white;}#sk-container-id-16 div.sk-label label {font-family: monospace;font-weight: bold;display: inline-block;line-height: 1.2em;}#sk-container-id-16 div.sk-label-container {text-align: center;}#sk-container-id-16 div.sk-container {/* jupyter's `normalize.less` sets `[hidden] { display: none; }` but bootstrap.min.css set `[hidden] { display: none !important; }` so we also need the `!important` here to be able to override the default hidden behavior on the sphinx rendered scikit-learn.org. See: https://github.com/scikit-learn/scikit-learn/issues/21755 */display: inline-block !important;position: relative;}#sk-container-id-16 div.sk-text-repr-fallback {display: none;}</style><div id=\"sk-container-id-16\" class=\"sk-top-container\"><div class=\"sk-text-repr-fallback\"><pre>LogisticRegression()</pre><b>In a Jupyter environment, please rerun this cell to show the HTML representation or trust the notebook. <br />On GitHub, the HTML representation is unable to render, please try loading this page with nbviewer.org.</b></div><div class=\"sk-container\" hidden><div class=\"sk-item\"><div class=\"sk-estimator sk-toggleable\"><input class=\"sk-toggleable__control sk-hidden--visually\" id=\"sk-estimator-id-16\" type=\"checkbox\" checked><label for=\"sk-estimator-id-16\" class=\"sk-toggleable__label sk-toggleable__label-arrow\">LogisticRegression</label><div class=\"sk-toggleable__content\"><pre>LogisticRegression()</pre></div></div></div></div></div>"
      ],
      "text/plain": [
       "LogisticRegression()"
      ]
     },
     "execution_count": 229,
     "metadata": {},
     "output_type": "execute_result"
    }
   ],
   "source": [
    "#Fit the x and y training variables into the logisitic regression model\n",
    "model.fit(X_train, y_train)"
   ]
  },
  {
   "cell_type": "code",
   "execution_count": 230,
   "id": "422f6011-0e8c-4bf4-b18f-fe5511c6d42c",
   "metadata": {},
   "outputs": [],
   "source": [
    "#Test the predictive power of the model\n",
    "y_pred = model.predict(X_test)"
   ]
  },
  {
   "cell_type": "code",
   "execution_count": 231,
   "id": "12568a1b-aff8-4110-abf2-22189266b246",
   "metadata": {},
   "outputs": [
    {
     "name": "stdout",
     "output_type": "stream",
     "text": [
      "0.9843597262952102\n"
     ]
    }
   ],
   "source": [
    "#Print accuracy \n",
    "accuracy = accuracy_score(y_test, y_pred)\n",
    "print(accuracy)"
   ]
  },
  {
   "cell_type": "code",
   "execution_count": 232,
   "id": "d82f7832-a0b1-47cd-b6c5-68fd4932d25f",
   "metadata": {},
   "outputs": [
    {
     "name": "stdout",
     "output_type": "stream",
     "text": [
      "              precision    recall  f1-score   support\n",
      "\n",
      "         0.0       0.98      1.00      0.99      1007\n",
      "         1.0       0.00      0.00      0.00        16\n",
      "\n",
      "    accuracy                           0.98      1023\n",
      "   macro avg       0.49      0.50      0.50      1023\n",
      "weighted avg       0.97      0.98      0.98      1023\n",
      "\n"
     ]
    }
   ],
   "source": [
    "#Model statistics\n",
    "print(classification_report(y_test, y_pred))"
   ]
  },
  {
   "cell_type": "code",
   "execution_count": 233,
   "id": "2a1f3b7a-8070-4911-b683-2a05ba393b1b",
   "metadata": {},
   "outputs": [
    {
     "data": {
      "text/plain": [
       "array([[1007,    0],\n",
       "       [  16,    0]], dtype=int64)"
      ]
     },
     "execution_count": 233,
     "metadata": {},
     "output_type": "execute_result"
    }
   ],
   "source": [
    "#Confusion Matrix\n",
    "confusion_matrix(y_test, y_pred)"
   ]
  },
  {
   "cell_type": "code",
   "execution_count": null,
   "id": "44c4949e-3b62-4c31-bbe6-304b3ffd169a",
   "metadata": {},
   "outputs": [],
   "source": []
  },
  {
   "cell_type": "markdown",
   "id": "ceedb0ab-9a5a-403c-8919-10be31a707ef",
   "metadata": {},
   "source": [
    "## Undersampling for Logisitc Regression"
   ]
  },
  {
   "cell_type": "code",
   "execution_count": 234,
   "id": "ef915f3b-598f-42c1-819d-b4fba81845bc",
   "metadata": {},
   "outputs": [],
   "source": [
    "#Resample the dataset using under sampling techniques\n",
    "X_resampled, y_resampled = RandomUnderSampler().fit_resample(X, y)"
   ]
  },
  {
   "cell_type": "code",
   "execution_count": 235,
   "id": "fa630e43-85e8-4944-9879-50d34ba50f4c",
   "metadata": {},
   "outputs": [],
   "source": [
    "#Train/ Test split\n",
    "X_train2, X_test2, y_train2, y_test2 = train_test_split(X_resampled, y_resampled, test_size = 0.2, random_state = 42)"
   ]
  },
  {
   "cell_type": "code",
   "execution_count": 236,
   "id": "3888c9fa-8982-4b88-afad-4c8064c6663a",
   "metadata": {},
   "outputs": [
    {
     "data": {
      "text/html": [
       "<style>#sk-container-id-17 {color: black;}#sk-container-id-17 pre{padding: 0;}#sk-container-id-17 div.sk-toggleable {background-color: white;}#sk-container-id-17 label.sk-toggleable__label {cursor: pointer;display: block;width: 100%;margin-bottom: 0;padding: 0.3em;box-sizing: border-box;text-align: center;}#sk-container-id-17 label.sk-toggleable__label-arrow:before {content: \"▸\";float: left;margin-right: 0.25em;color: #696969;}#sk-container-id-17 label.sk-toggleable__label-arrow:hover:before {color: black;}#sk-container-id-17 div.sk-estimator:hover label.sk-toggleable__label-arrow:before {color: black;}#sk-container-id-17 div.sk-toggleable__content {max-height: 0;max-width: 0;overflow: hidden;text-align: left;background-color: #f0f8ff;}#sk-container-id-17 div.sk-toggleable__content pre {margin: 0.2em;color: black;border-radius: 0.25em;background-color: #f0f8ff;}#sk-container-id-17 input.sk-toggleable__control:checked~div.sk-toggleable__content {max-height: 200px;max-width: 100%;overflow: auto;}#sk-container-id-17 input.sk-toggleable__control:checked~label.sk-toggleable__label-arrow:before {content: \"▾\";}#sk-container-id-17 div.sk-estimator input.sk-toggleable__control:checked~label.sk-toggleable__label {background-color: #d4ebff;}#sk-container-id-17 div.sk-label input.sk-toggleable__control:checked~label.sk-toggleable__label {background-color: #d4ebff;}#sk-container-id-17 input.sk-hidden--visually {border: 0;clip: rect(1px 1px 1px 1px);clip: rect(1px, 1px, 1px, 1px);height: 1px;margin: -1px;overflow: hidden;padding: 0;position: absolute;width: 1px;}#sk-container-id-17 div.sk-estimator {font-family: monospace;background-color: #f0f8ff;border: 1px dotted black;border-radius: 0.25em;box-sizing: border-box;margin-bottom: 0.5em;}#sk-container-id-17 div.sk-estimator:hover {background-color: #d4ebff;}#sk-container-id-17 div.sk-parallel-item::after {content: \"\";width: 100%;border-bottom: 1px solid gray;flex-grow: 1;}#sk-container-id-17 div.sk-label:hover label.sk-toggleable__label {background-color: #d4ebff;}#sk-container-id-17 div.sk-serial::before {content: \"\";position: absolute;border-left: 1px solid gray;box-sizing: border-box;top: 0;bottom: 0;left: 50%;z-index: 0;}#sk-container-id-17 div.sk-serial {display: flex;flex-direction: column;align-items: center;background-color: white;padding-right: 0.2em;padding-left: 0.2em;position: relative;}#sk-container-id-17 div.sk-item {position: relative;z-index: 1;}#sk-container-id-17 div.sk-parallel {display: flex;align-items: stretch;justify-content: center;background-color: white;position: relative;}#sk-container-id-17 div.sk-item::before, #sk-container-id-17 div.sk-parallel-item::before {content: \"\";position: absolute;border-left: 1px solid gray;box-sizing: border-box;top: 0;bottom: 0;left: 50%;z-index: -1;}#sk-container-id-17 div.sk-parallel-item {display: flex;flex-direction: column;z-index: 1;position: relative;background-color: white;}#sk-container-id-17 div.sk-parallel-item:first-child::after {align-self: flex-end;width: 50%;}#sk-container-id-17 div.sk-parallel-item:last-child::after {align-self: flex-start;width: 50%;}#sk-container-id-17 div.sk-parallel-item:only-child::after {width: 0;}#sk-container-id-17 div.sk-dashed-wrapped {border: 1px dashed gray;margin: 0 0.4em 0.5em 0.4em;box-sizing: border-box;padding-bottom: 0.4em;background-color: white;}#sk-container-id-17 div.sk-label label {font-family: monospace;font-weight: bold;display: inline-block;line-height: 1.2em;}#sk-container-id-17 div.sk-label-container {text-align: center;}#sk-container-id-17 div.sk-container {/* jupyter's `normalize.less` sets `[hidden] { display: none; }` but bootstrap.min.css set `[hidden] { display: none !important; }` so we also need the `!important` here to be able to override the default hidden behavior on the sphinx rendered scikit-learn.org. See: https://github.com/scikit-learn/scikit-learn/issues/21755 */display: inline-block !important;position: relative;}#sk-container-id-17 div.sk-text-repr-fallback {display: none;}</style><div id=\"sk-container-id-17\" class=\"sk-top-container\"><div class=\"sk-text-repr-fallback\"><pre>LogisticRegression()</pre><b>In a Jupyter environment, please rerun this cell to show the HTML representation or trust the notebook. <br />On GitHub, the HTML representation is unable to render, please try loading this page with nbviewer.org.</b></div><div class=\"sk-container\" hidden><div class=\"sk-item\"><div class=\"sk-estimator sk-toggleable\"><input class=\"sk-toggleable__control sk-hidden--visually\" id=\"sk-estimator-id-17\" type=\"checkbox\" checked><label for=\"sk-estimator-id-17\" class=\"sk-toggleable__label sk-toggleable__label-arrow\">LogisticRegression</label><div class=\"sk-toggleable__content\"><pre>LogisticRegression()</pre></div></div></div></div></div>"
      ],
      "text/plain": [
       "LogisticRegression()"
      ]
     },
     "execution_count": 236,
     "metadata": {},
     "output_type": "execute_result"
    }
   ],
   "source": [
    "#Fit new data to logisitic regression model\n",
    "model.fit(X_train2, y_train2)"
   ]
  },
  {
   "cell_type": "code",
   "execution_count": 237,
   "id": "6ebaa291-e029-46f6-87ab-067537504066",
   "metadata": {},
   "outputs": [],
   "source": [
    "#Make predictions\n",
    "y_pred2 = model.predict(X_test2)"
   ]
  },
  {
   "cell_type": "code",
   "execution_count": 238,
   "id": "130f6753-bfd1-4687-a527-f55c604037ae",
   "metadata": {},
   "outputs": [
    {
     "name": "stdout",
     "output_type": "stream",
     "text": [
      "0.6136363636363636\n"
     ]
    }
   ],
   "source": [
    "#Print out accuracy\n",
    "accuracy2 = accuracy_score(y_test2, y_pred2)\n",
    "print(accuracy2)"
   ]
  },
  {
   "cell_type": "code",
   "execution_count": 239,
   "id": "45161660-297b-4c68-92fe-6c15c3d5b257",
   "metadata": {},
   "outputs": [
    {
     "data": {
      "text/plain": [
       "array([[22,  0],\n",
       "       [17,  5]], dtype=int64)"
      ]
     },
     "execution_count": 239,
     "metadata": {},
     "output_type": "execute_result"
    }
   ],
   "source": [
    "#Print out confusion matrix\n",
    "confusion_matrix(y_test2, y_pred2)"
   ]
  },
  {
   "cell_type": "code",
   "execution_count": null,
   "id": "a486bb7c-4ab9-4584-8fcd-63501f623060",
   "metadata": {},
   "outputs": [],
   "source": []
  },
  {
   "cell_type": "markdown",
   "id": "2bcb21c4-f883-4fc8-b6df-d7ecf6859006",
   "metadata": {},
   "source": [
    "## Oversampling for Logisitic Regression"
   ]
  },
  {
   "cell_type": "code",
   "execution_count": 240,
   "id": "68ec8484-d11a-484b-b19c-9d2224705d49",
   "metadata": {},
   "outputs": [],
   "source": [
    "#Resample the dataset using over sampling techniques\n",
    "X_resampled_over, y_resampled_over = RandomOverSampler().fit_resample(X, y)"
   ]
  },
  {
   "cell_type": "code",
   "execution_count": 241,
   "id": "8276d9a0-c2d0-478f-9b85-8c0b565388a0",
   "metadata": {},
   "outputs": [],
   "source": [
    "#Train/test split\n",
    "X_train3, X_test3, y_train3, y_test3 = train_test_split(X_resampled_over, y_resampled_over, test_size = 0.2, random_state = 42)"
   ]
  },
  {
   "cell_type": "code",
   "execution_count": 242,
   "id": "f586b050-e256-4682-ac99-82e7e7ce5508",
   "metadata": {},
   "outputs": [
    {
     "data": {
      "text/html": [
       "<style>#sk-container-id-18 {color: black;}#sk-container-id-18 pre{padding: 0;}#sk-container-id-18 div.sk-toggleable {background-color: white;}#sk-container-id-18 label.sk-toggleable__label {cursor: pointer;display: block;width: 100%;margin-bottom: 0;padding: 0.3em;box-sizing: border-box;text-align: center;}#sk-container-id-18 label.sk-toggleable__label-arrow:before {content: \"▸\";float: left;margin-right: 0.25em;color: #696969;}#sk-container-id-18 label.sk-toggleable__label-arrow:hover:before {color: black;}#sk-container-id-18 div.sk-estimator:hover label.sk-toggleable__label-arrow:before {color: black;}#sk-container-id-18 div.sk-toggleable__content {max-height: 0;max-width: 0;overflow: hidden;text-align: left;background-color: #f0f8ff;}#sk-container-id-18 div.sk-toggleable__content pre {margin: 0.2em;color: black;border-radius: 0.25em;background-color: #f0f8ff;}#sk-container-id-18 input.sk-toggleable__control:checked~div.sk-toggleable__content {max-height: 200px;max-width: 100%;overflow: auto;}#sk-container-id-18 input.sk-toggleable__control:checked~label.sk-toggleable__label-arrow:before {content: \"▾\";}#sk-container-id-18 div.sk-estimator input.sk-toggleable__control:checked~label.sk-toggleable__label {background-color: #d4ebff;}#sk-container-id-18 div.sk-label input.sk-toggleable__control:checked~label.sk-toggleable__label {background-color: #d4ebff;}#sk-container-id-18 input.sk-hidden--visually {border: 0;clip: rect(1px 1px 1px 1px);clip: rect(1px, 1px, 1px, 1px);height: 1px;margin: -1px;overflow: hidden;padding: 0;position: absolute;width: 1px;}#sk-container-id-18 div.sk-estimator {font-family: monospace;background-color: #f0f8ff;border: 1px dotted black;border-radius: 0.25em;box-sizing: border-box;margin-bottom: 0.5em;}#sk-container-id-18 div.sk-estimator:hover {background-color: #d4ebff;}#sk-container-id-18 div.sk-parallel-item::after {content: \"\";width: 100%;border-bottom: 1px solid gray;flex-grow: 1;}#sk-container-id-18 div.sk-label:hover label.sk-toggleable__label {background-color: #d4ebff;}#sk-container-id-18 div.sk-serial::before {content: \"\";position: absolute;border-left: 1px solid gray;box-sizing: border-box;top: 0;bottom: 0;left: 50%;z-index: 0;}#sk-container-id-18 div.sk-serial {display: flex;flex-direction: column;align-items: center;background-color: white;padding-right: 0.2em;padding-left: 0.2em;position: relative;}#sk-container-id-18 div.sk-item {position: relative;z-index: 1;}#sk-container-id-18 div.sk-parallel {display: flex;align-items: stretch;justify-content: center;background-color: white;position: relative;}#sk-container-id-18 div.sk-item::before, #sk-container-id-18 div.sk-parallel-item::before {content: \"\";position: absolute;border-left: 1px solid gray;box-sizing: border-box;top: 0;bottom: 0;left: 50%;z-index: -1;}#sk-container-id-18 div.sk-parallel-item {display: flex;flex-direction: column;z-index: 1;position: relative;background-color: white;}#sk-container-id-18 div.sk-parallel-item:first-child::after {align-self: flex-end;width: 50%;}#sk-container-id-18 div.sk-parallel-item:last-child::after {align-self: flex-start;width: 50%;}#sk-container-id-18 div.sk-parallel-item:only-child::after {width: 0;}#sk-container-id-18 div.sk-dashed-wrapped {border: 1px dashed gray;margin: 0 0.4em 0.5em 0.4em;box-sizing: border-box;padding-bottom: 0.4em;background-color: white;}#sk-container-id-18 div.sk-label label {font-family: monospace;font-weight: bold;display: inline-block;line-height: 1.2em;}#sk-container-id-18 div.sk-label-container {text-align: center;}#sk-container-id-18 div.sk-container {/* jupyter's `normalize.less` sets `[hidden] { display: none; }` but bootstrap.min.css set `[hidden] { display: none !important; }` so we also need the `!important` here to be able to override the default hidden behavior on the sphinx rendered scikit-learn.org. See: https://github.com/scikit-learn/scikit-learn/issues/21755 */display: inline-block !important;position: relative;}#sk-container-id-18 div.sk-text-repr-fallback {display: none;}</style><div id=\"sk-container-id-18\" class=\"sk-top-container\"><div class=\"sk-text-repr-fallback\"><pre>LogisticRegression()</pre><b>In a Jupyter environment, please rerun this cell to show the HTML representation or trust the notebook. <br />On GitHub, the HTML representation is unable to render, please try loading this page with nbviewer.org.</b></div><div class=\"sk-container\" hidden><div class=\"sk-item\"><div class=\"sk-estimator sk-toggleable\"><input class=\"sk-toggleable__control sk-hidden--visually\" id=\"sk-estimator-id-18\" type=\"checkbox\" checked><label for=\"sk-estimator-id-18\" class=\"sk-toggleable__label sk-toggleable__label-arrow\">LogisticRegression</label><div class=\"sk-toggleable__content\"><pre>LogisticRegression()</pre></div></div></div></div></div>"
      ],
      "text/plain": [
       "LogisticRegression()"
      ]
     },
     "execution_count": 242,
     "metadata": {},
     "output_type": "execute_result"
    }
   ],
   "source": [
    "#Fit new data to logisitic regression model\n",
    "model.fit(X_train3, y_train3)"
   ]
  },
  {
   "cell_type": "code",
   "execution_count": 243,
   "id": "b074af61-fb44-49d2-8b20-2488d35d0a32",
   "metadata": {},
   "outputs": [],
   "source": [
    "#make predictions\n",
    "y_pred3 = model.predict(X_test3)"
   ]
  },
  {
   "cell_type": "code",
   "execution_count": 244,
   "id": "602d30cb-6fe8-4cb9-92f4-9628822a7520",
   "metadata": {},
   "outputs": [
    {
     "name": "stdout",
     "output_type": "stream",
     "text": [
      "0.5694305694305695\n"
     ]
    }
   ],
   "source": [
    "#Print accuracy\n",
    "accuracy3 = accuracy_score(y_test3, y_pred3)\n",
    "print(accuracy3)"
   ]
  },
  {
   "cell_type": "code",
   "execution_count": 245,
   "id": "917fa12a-c5d3-4783-96ba-2d2679571f8d",
   "metadata": {},
   "outputs": [
    {
     "data": {
      "text/plain": [
       "array([[986,  30],\n",
       "       [832, 154]], dtype=int64)"
      ]
     },
     "execution_count": 245,
     "metadata": {},
     "output_type": "execute_result"
    }
   ],
   "source": [
    "#Print out confusion matrix\n",
    "confusion_matrix(y_test3, y_pred3)"
   ]
  },
  {
   "cell_type": "code",
   "execution_count": null,
   "id": "24d01971-7a19-4372-b4b4-98718515d72d",
   "metadata": {},
   "outputs": [],
   "source": []
  },
  {
   "cell_type": "markdown",
   "id": "0dccbafa-9df6-408a-a2a1-7a3def1f9d8f",
   "metadata": {},
   "source": [
    "## Random Forest Classifier for Classification"
   ]
  },
  {
   "cell_type": "code",
   "execution_count": null,
   "id": "2e61c301-20ea-4ac6-95a4-3c99157721e7",
   "metadata": {},
   "outputs": [],
   "source": [
    "#See if Random Forest has better predictive ability\n",
    "rf_model = RandomForestClassifier(n_estimators = 100, random_state =42)\n",
    "rf_model.fit(X_train, y_train)"
   ]
  },
  {
   "cell_type": "code",
   "execution_count": 249,
   "id": "af73e8c7-d4b7-43a4-8ec9-d4bcf043ca07",
   "metadata": {},
   "outputs": [],
   "source": [
    "#Create predictions\n",
    "y_pred_rf = rf_model.predict(X_test)"
   ]
  },
  {
   "cell_type": "code",
   "execution_count": 250,
   "id": "90bab883-4003-49f7-8bef-5a847300e9ae",
   "metadata": {},
   "outputs": [
    {
     "data": {
      "text/plain": [
       "0.9794721407624634"
      ]
     },
     "execution_count": 250,
     "metadata": {},
     "output_type": "execute_result"
    }
   ],
   "source": [
    "#Print Accuracy\n",
    "accuracy_score(y_test, y_pred_rf)"
   ]
  },
  {
   "cell_type": "code",
   "execution_count": null,
   "id": "7a4d2e50-24fc-40dd-ac8f-d31b1996ddda",
   "metadata": {},
   "outputs": [],
   "source": []
  },
  {
   "cell_type": "markdown",
   "id": "15c219db-65b9-4348-8845-bb4fc96f595f",
   "metadata": {},
   "source": [
    "## Random Forest Classifier with Oversampled Dataset"
   ]
  },
  {
   "cell_type": "code",
   "execution_count": 251,
   "id": "bb047580-d37d-4ba3-86fc-20dfe4b525ef",
   "metadata": {},
   "outputs": [
    {
     "data": {
      "text/html": [
       "<style>#sk-container-id-20 {color: black;}#sk-container-id-20 pre{padding: 0;}#sk-container-id-20 div.sk-toggleable {background-color: white;}#sk-container-id-20 label.sk-toggleable__label {cursor: pointer;display: block;width: 100%;margin-bottom: 0;padding: 0.3em;box-sizing: border-box;text-align: center;}#sk-container-id-20 label.sk-toggleable__label-arrow:before {content: \"▸\";float: left;margin-right: 0.25em;color: #696969;}#sk-container-id-20 label.sk-toggleable__label-arrow:hover:before {color: black;}#sk-container-id-20 div.sk-estimator:hover label.sk-toggleable__label-arrow:before {color: black;}#sk-container-id-20 div.sk-toggleable__content {max-height: 0;max-width: 0;overflow: hidden;text-align: left;background-color: #f0f8ff;}#sk-container-id-20 div.sk-toggleable__content pre {margin: 0.2em;color: black;border-radius: 0.25em;background-color: #f0f8ff;}#sk-container-id-20 input.sk-toggleable__control:checked~div.sk-toggleable__content {max-height: 200px;max-width: 100%;overflow: auto;}#sk-container-id-20 input.sk-toggleable__control:checked~label.sk-toggleable__label-arrow:before {content: \"▾\";}#sk-container-id-20 div.sk-estimator input.sk-toggleable__control:checked~label.sk-toggleable__label {background-color: #d4ebff;}#sk-container-id-20 div.sk-label input.sk-toggleable__control:checked~label.sk-toggleable__label {background-color: #d4ebff;}#sk-container-id-20 input.sk-hidden--visually {border: 0;clip: rect(1px 1px 1px 1px);clip: rect(1px, 1px, 1px, 1px);height: 1px;margin: -1px;overflow: hidden;padding: 0;position: absolute;width: 1px;}#sk-container-id-20 div.sk-estimator {font-family: monospace;background-color: #f0f8ff;border: 1px dotted black;border-radius: 0.25em;box-sizing: border-box;margin-bottom: 0.5em;}#sk-container-id-20 div.sk-estimator:hover {background-color: #d4ebff;}#sk-container-id-20 div.sk-parallel-item::after {content: \"\";width: 100%;border-bottom: 1px solid gray;flex-grow: 1;}#sk-container-id-20 div.sk-label:hover label.sk-toggleable__label {background-color: #d4ebff;}#sk-container-id-20 div.sk-serial::before {content: \"\";position: absolute;border-left: 1px solid gray;box-sizing: border-box;top: 0;bottom: 0;left: 50%;z-index: 0;}#sk-container-id-20 div.sk-serial {display: flex;flex-direction: column;align-items: center;background-color: white;padding-right: 0.2em;padding-left: 0.2em;position: relative;}#sk-container-id-20 div.sk-item {position: relative;z-index: 1;}#sk-container-id-20 div.sk-parallel {display: flex;align-items: stretch;justify-content: center;background-color: white;position: relative;}#sk-container-id-20 div.sk-item::before, #sk-container-id-20 div.sk-parallel-item::before {content: \"\";position: absolute;border-left: 1px solid gray;box-sizing: border-box;top: 0;bottom: 0;left: 50%;z-index: -1;}#sk-container-id-20 div.sk-parallel-item {display: flex;flex-direction: column;z-index: 1;position: relative;background-color: white;}#sk-container-id-20 div.sk-parallel-item:first-child::after {align-self: flex-end;width: 50%;}#sk-container-id-20 div.sk-parallel-item:last-child::after {align-self: flex-start;width: 50%;}#sk-container-id-20 div.sk-parallel-item:only-child::after {width: 0;}#sk-container-id-20 div.sk-dashed-wrapped {border: 1px dashed gray;margin: 0 0.4em 0.5em 0.4em;box-sizing: border-box;padding-bottom: 0.4em;background-color: white;}#sk-container-id-20 div.sk-label label {font-family: monospace;font-weight: bold;display: inline-block;line-height: 1.2em;}#sk-container-id-20 div.sk-label-container {text-align: center;}#sk-container-id-20 div.sk-container {/* jupyter's `normalize.less` sets `[hidden] { display: none; }` but bootstrap.min.css set `[hidden] { display: none !important; }` so we also need the `!important` here to be able to override the default hidden behavior on the sphinx rendered scikit-learn.org. See: https://github.com/scikit-learn/scikit-learn/issues/21755 */display: inline-block !important;position: relative;}#sk-container-id-20 div.sk-text-repr-fallback {display: none;}</style><div id=\"sk-container-id-20\" class=\"sk-top-container\"><div class=\"sk-text-repr-fallback\"><pre>RandomForestClassifier(random_state=42)</pre><b>In a Jupyter environment, please rerun this cell to show the HTML representation or trust the notebook. <br />On GitHub, the HTML representation is unable to render, please try loading this page with nbviewer.org.</b></div><div class=\"sk-container\" hidden><div class=\"sk-item\"><div class=\"sk-estimator sk-toggleable\"><input class=\"sk-toggleable__control sk-hidden--visually\" id=\"sk-estimator-id-20\" type=\"checkbox\" checked><label for=\"sk-estimator-id-20\" class=\"sk-toggleable__label sk-toggleable__label-arrow\">RandomForestClassifier</label><div class=\"sk-toggleable__content\"><pre>RandomForestClassifier(random_state=42)</pre></div></div></div></div></div>"
      ],
      "text/plain": [
       "RandomForestClassifier(random_state=42)"
      ]
     },
     "execution_count": 251,
     "metadata": {},
     "output_type": "execute_result"
    }
   ],
   "source": [
    "#Try Random Forest with Oversampled Dataset\n",
    "rf_model.fit(X_train3, y_train3)"
   ]
  },
  {
   "cell_type": "code",
   "execution_count": 254,
   "id": "5b76f737-03d2-4c7f-bbc2-8c8d210d6158",
   "metadata": {},
   "outputs": [],
   "source": [
    "#Create Predictions\n",
    "y_pred_rf3 = rf_model.predict(X_test3)"
   ]
  },
  {
   "cell_type": "code",
   "execution_count": 255,
   "id": "dc77c63a-af75-4fd6-8051-b4a4b5e8156b",
   "metadata": {},
   "outputs": [
    {
     "data": {
      "text/plain": [
       "0.5749250749250749"
      ]
     },
     "execution_count": 255,
     "metadata": {},
     "output_type": "execute_result"
    }
   ],
   "source": [
    "#Print accuracy\n",
    "accuracy_score(y_test3, y_pred_rf3)"
   ]
  },
  {
   "cell_type": "code",
   "execution_count": null,
   "id": "6cc5d126-1ce0-4aab-af14-591e7f2166f4",
   "metadata": {},
   "outputs": [],
   "source": []
  },
  {
   "cell_type": "markdown",
   "id": "7fc4c3e3-92e2-4e77-be86-d10ce40f3ade",
   "metadata": {},
   "source": [
    "## Neural Network for Classification using Oversampled Dataset"
   ]
  },
  {
   "cell_type": "code",
   "execution_count": 256,
   "id": "8145000c-3a49-41a3-9e31-7b3d2dc94d35",
   "metadata": {},
   "outputs": [],
   "source": [
    "#Try building a neural network to see it's predictive capability\n",
    "model = Sequential()"
   ]
  },
  {
   "cell_type": "code",
   "execution_count": 259,
   "id": "6de0b5c6-f01e-4456-9d16-2a755433867f",
   "metadata": {},
   "outputs": [],
   "source": [
    "#Input layer\n",
    "model.add(Dense(units = 64, activation = 'relu', input_dim = X_train3.shape[1]))\n",
    "#Hidden layer\n",
    "model.add(Dense(units = 32, activation = 'relu'))\n",
    "#Output layer\n",
    "model.add(Dense(units = 1, activation = 'sigmoid'))"
   ]
  },
  {
   "cell_type": "code",
   "execution_count": 260,
   "id": "b56114b4-7656-4529-9279-ba9a0966d8cd",
   "metadata": {},
   "outputs": [],
   "source": [
    "#Compile model\n",
    "model.compile(optimizer = 'adam', loss = 'binary_crossentropy', metrics = ['accuracy'])"
   ]
  },
  {
   "cell_type": "code",
   "execution_count": 263,
   "id": "c6036ce9-0d66-4d8d-9f4d-1da61176b76d",
   "metadata": {},
   "outputs": [
    {
     "name": "stdout",
     "output_type": "stream",
     "text": [
      "Epoch 1/100\n",
      "251/251 [==============================] - 2s 3ms/step - loss: 1.1495 - accuracy: 0.5479 - val_loss: 0.9791 - val_accuracy: 0.5694\n",
      "Epoch 2/100\n",
      "251/251 [==============================] - 1s 2ms/step - loss: 0.9226 - accuracy: 0.5533 - val_loss: 1.4796 - val_accuracy: 0.5385\n",
      "Epoch 3/100\n",
      "251/251 [==============================] - 1s 2ms/step - loss: 0.8753 - accuracy: 0.5501 - val_loss: 1.0239 - val_accuracy: 0.5694\n",
      "Epoch 4/100\n",
      "251/251 [==============================] - 1s 2ms/step - loss: 0.9713 - accuracy: 0.5431 - val_loss: 0.8550 - val_accuracy: 0.5694\n",
      "Epoch 5/100\n",
      "251/251 [==============================] - 1s 2ms/step - loss: 0.8808 - accuracy: 0.5513 - val_loss: 1.1173 - val_accuracy: 0.5385\n",
      "Epoch 6/100\n",
      "251/251 [==============================] - 1s 2ms/step - loss: 0.8213 - accuracy: 0.5515 - val_loss: 0.6958 - val_accuracy: 0.5704\n",
      "Epoch 7/100\n",
      "251/251 [==============================] - 1s 3ms/step - loss: 1.0290 - accuracy: 0.5503 - val_loss: 1.0588 - val_accuracy: 0.5694\n",
      "Epoch 8/100\n",
      "251/251 [==============================] - 1s 3ms/step - loss: 0.8203 - accuracy: 0.5513 - val_loss: 0.9228 - val_accuracy: 0.5694\n",
      "Epoch 9/100\n",
      "251/251 [==============================] - 1s 3ms/step - loss: 0.8135 - accuracy: 0.5521 - val_loss: 0.9775 - val_accuracy: 0.5694\n",
      "Epoch 10/100\n",
      "251/251 [==============================] - 1s 3ms/step - loss: 0.8521 - accuracy: 0.5502 - val_loss: 1.0405 - val_accuracy: 0.5694\n",
      "Epoch 11/100\n",
      "251/251 [==============================] - 1s 3ms/step - loss: 0.8387 - accuracy: 0.5502 - val_loss: 1.0226 - val_accuracy: 0.5694\n",
      "Epoch 12/100\n",
      "251/251 [==============================] - 1s 2ms/step - loss: 0.8330 - accuracy: 0.5502 - val_loss: 0.7854 - val_accuracy: 0.5699\n",
      "Epoch 13/100\n",
      "251/251 [==============================] - 1s 2ms/step - loss: 0.8298 - accuracy: 0.5503 - val_loss: 0.7747 - val_accuracy: 0.5699\n",
      "Epoch 14/100\n",
      "251/251 [==============================] - 1s 3ms/step - loss: 0.7931 - accuracy: 0.5505 - val_loss: 0.7252 - val_accuracy: 0.5699\n",
      "Epoch 15/100\n",
      "251/251 [==============================] - 1s 3ms/step - loss: 0.7479 - accuracy: 0.5508 - val_loss: 0.9287 - val_accuracy: 0.5694\n",
      "Epoch 16/100\n",
      "251/251 [==============================] - 1s 2ms/step - loss: 0.7887 - accuracy: 0.5506 - val_loss: 0.6763 - val_accuracy: 0.5684\n",
      "Epoch 17/100\n",
      "251/251 [==============================] - 1s 3ms/step - loss: 0.7593 - accuracy: 0.5515 - val_loss: 0.7287 - val_accuracy: 0.5699\n",
      "Epoch 18/100\n",
      "251/251 [==============================] - 1s 3ms/step - loss: 0.8109 - accuracy: 0.5513 - val_loss: 0.7898 - val_accuracy: 0.5694\n",
      "Epoch 19/100\n",
      "251/251 [==============================] - 1s 2ms/step - loss: 0.7252 - accuracy: 0.5513 - val_loss: 0.7735 - val_accuracy: 0.5694\n",
      "Epoch 20/100\n",
      "251/251 [==============================] - 1s 2ms/step - loss: 0.7800 - accuracy: 0.5501 - val_loss: 0.8284 - val_accuracy: 0.5694\n",
      "Epoch 21/100\n",
      "251/251 [==============================] - 1s 2ms/step - loss: 0.7516 - accuracy: 0.5507 - val_loss: 0.7193 - val_accuracy: 0.5699\n",
      "Epoch 22/100\n",
      "251/251 [==============================] - 1s 3ms/step - loss: 0.7148 - accuracy: 0.5508 - val_loss: 0.7481 - val_accuracy: 0.5694\n",
      "Epoch 23/100\n",
      "251/251 [==============================] - 1s 3ms/step - loss: 0.7116 - accuracy: 0.5523 - val_loss: 0.7386 - val_accuracy: 0.5694\n",
      "Epoch 24/100\n",
      "251/251 [==============================] - 1s 3ms/step - loss: 0.7032 - accuracy: 0.5513 - val_loss: 0.6731 - val_accuracy: 0.5704\n",
      "Epoch 25/100\n",
      "251/251 [==============================] - 1s 3ms/step - loss: 0.7087 - accuracy: 0.5521 - val_loss: 0.7452 - val_accuracy: 0.5694\n",
      "Epoch 26/100\n",
      "251/251 [==============================] - 1s 3ms/step - loss: 0.7764 - accuracy: 0.5516 - val_loss: 0.6855 - val_accuracy: 0.5385\n",
      "Epoch 27/100\n",
      "251/251 [==============================] - 1s 3ms/step - loss: 0.7043 - accuracy: 0.5515 - val_loss: 0.6774 - val_accuracy: 0.5704\n",
      "Epoch 28/100\n",
      "251/251 [==============================] - 1s 3ms/step - loss: 0.6899 - accuracy: 0.5532 - val_loss: 0.7448 - val_accuracy: 0.5385\n",
      "Epoch 29/100\n",
      "251/251 [==============================] - 1s 3ms/step - loss: 0.6984 - accuracy: 0.5510 - val_loss: 0.6849 - val_accuracy: 0.5694\n",
      "Epoch 30/100\n",
      "251/251 [==============================] - 1s 4ms/step - loss: 0.6873 - accuracy: 0.5531 - val_loss: 0.7269 - val_accuracy: 0.5694\n",
      "Epoch 31/100\n",
      "251/251 [==============================] - 1s 3ms/step - loss: 0.7009 - accuracy: 0.5525 - val_loss: 0.6800 - val_accuracy: 0.5415\n",
      "Epoch 32/100\n",
      "251/251 [==============================] - 1s 3ms/step - loss: 0.6896 - accuracy: 0.5522 - val_loss: 0.6711 - val_accuracy: 0.5694\n",
      "Epoch 33/100\n",
      "251/251 [==============================] - 1s 3ms/step - loss: 0.6902 - accuracy: 0.5521 - val_loss: 0.6988 - val_accuracy: 0.5694\n",
      "Epoch 34/100\n",
      "251/251 [==============================] - 1s 3ms/step - loss: 0.7028 - accuracy: 0.5515 - val_loss: 0.6799 - val_accuracy: 0.5694\n",
      "Epoch 35/100\n",
      "251/251 [==============================] - 1s 2ms/step - loss: 0.6924 - accuracy: 0.5522 - val_loss: 0.6720 - val_accuracy: 0.5694\n",
      "Epoch 36/100\n",
      "251/251 [==============================] - 1s 3ms/step - loss: 0.6999 - accuracy: 0.5530 - val_loss: 0.7182 - val_accuracy: 0.5694\n",
      "Epoch 37/100\n",
      "251/251 [==============================] - 1s 3ms/step - loss: 0.6910 - accuracy: 0.5527 - val_loss: 0.6710 - val_accuracy: 0.5694\n",
      "Epoch 38/100\n",
      "251/251 [==============================] - 1s 3ms/step - loss: 0.6830 - accuracy: 0.5512 - val_loss: 0.6722 - val_accuracy: 0.5694\n",
      "Epoch 39/100\n",
      "251/251 [==============================] - 1s 3ms/step - loss: 0.6792 - accuracy: 0.5526 - val_loss: 0.6732 - val_accuracy: 0.5694\n",
      "Epoch 40/100\n",
      "251/251 [==============================] - 1s 3ms/step - loss: 0.6797 - accuracy: 0.5533 - val_loss: 0.6806 - val_accuracy: 0.5524\n",
      "Epoch 41/100\n",
      "251/251 [==============================] - 1s 2ms/step - loss: 0.6822 - accuracy: 0.5523 - val_loss: 0.6814 - val_accuracy: 0.5694\n",
      "Epoch 42/100\n",
      "251/251 [==============================] - 1s 2ms/step - loss: 0.6803 - accuracy: 0.5535 - val_loss: 0.6816 - val_accuracy: 0.5694\n",
      "Epoch 43/100\n",
      "251/251 [==============================] - 1s 3ms/step - loss: 0.6783 - accuracy: 0.5532 - val_loss: 0.6801 - val_accuracy: 0.5524\n",
      "Epoch 44/100\n",
      "251/251 [==============================] - 1s 3ms/step - loss: 0.6752 - accuracy: 0.5538 - val_loss: 0.6712 - val_accuracy: 0.5694\n",
      "Epoch 45/100\n",
      "251/251 [==============================] - 1s 3ms/step - loss: 0.6750 - accuracy: 0.5542 - val_loss: 0.6722 - val_accuracy: 0.5694\n",
      "Epoch 46/100\n",
      "251/251 [==============================] - 1s 3ms/step - loss: 0.6754 - accuracy: 0.5546 - val_loss: 0.6709 - val_accuracy: 0.5694\n",
      "Epoch 47/100\n",
      "251/251 [==============================] - 1s 3ms/step - loss: 0.6739 - accuracy: 0.5548 - val_loss: 0.6730 - val_accuracy: 0.5699\n",
      "Epoch 48/100\n",
      "251/251 [==============================] - 1s 3ms/step - loss: 0.6744 - accuracy: 0.5547 - val_loss: 0.6708 - val_accuracy: 0.5694\n",
      "Epoch 49/100\n",
      "251/251 [==============================] - 1s 3ms/step - loss: 0.6739 - accuracy: 0.5547 - val_loss: 0.6728 - val_accuracy: 0.5694\n",
      "Epoch 50/100\n",
      "251/251 [==============================] - 1s 3ms/step - loss: 0.6744 - accuracy: 0.5547 - val_loss: 0.6711 - val_accuracy: 0.5694\n",
      "Epoch 51/100\n",
      "251/251 [==============================] - 1s 3ms/step - loss: 0.6742 - accuracy: 0.5547 - val_loss: 0.6706 - val_accuracy: 0.5694\n",
      "Epoch 52/100\n",
      "251/251 [==============================] - 1s 3ms/step - loss: 0.6742 - accuracy: 0.5551 - val_loss: 0.6707 - val_accuracy: 0.5694\n",
      "Epoch 53/100\n",
      "251/251 [==============================] - 1s 3ms/step - loss: 0.6736 - accuracy: 0.5548 - val_loss: 0.6711 - val_accuracy: 0.5694\n",
      "Epoch 54/100\n",
      "251/251 [==============================] - 1s 3ms/step - loss: 0.6744 - accuracy: 0.5550 - val_loss: 0.6708 - val_accuracy: 0.5699\n",
      "Epoch 55/100\n",
      "251/251 [==============================] - 1s 2ms/step - loss: 0.7029 - accuracy: 0.5538 - val_loss: 0.6709 - val_accuracy: 0.5694\n",
      "Epoch 56/100\n",
      "251/251 [==============================] - 1s 2ms/step - loss: 0.6744 - accuracy: 0.5547 - val_loss: 0.6732 - val_accuracy: 0.5694\n",
      "Epoch 57/100\n",
      "251/251 [==============================] - 1s 3ms/step - loss: 0.6750 - accuracy: 0.5547 - val_loss: 0.6706 - val_accuracy: 0.5694\n",
      "Epoch 58/100\n",
      "251/251 [==============================] - 1s 2ms/step - loss: 0.6742 - accuracy: 0.5547 - val_loss: 0.6713 - val_accuracy: 0.5694\n",
      "Epoch 59/100\n",
      "251/251 [==============================] - 1s 2ms/step - loss: 0.6744 - accuracy: 0.5547 - val_loss: 0.6715 - val_accuracy: 0.5694\n",
      "Epoch 60/100\n",
      "251/251 [==============================] - 1s 2ms/step - loss: 0.6740 - accuracy: 0.5547 - val_loss: 0.6703 - val_accuracy: 0.5694\n",
      "Epoch 61/100\n",
      "251/251 [==============================] - 1s 3ms/step - loss: 0.6738 - accuracy: 0.5547 - val_loss: 0.6732 - val_accuracy: 0.5694\n",
      "Epoch 62/100\n",
      "251/251 [==============================] - 1s 3ms/step - loss: 0.6746 - accuracy: 0.5547 - val_loss: 0.6708 - val_accuracy: 0.5694\n",
      "Epoch 63/100\n",
      "251/251 [==============================] - 1s 2ms/step - loss: 0.6740 - accuracy: 0.5547 - val_loss: 0.6705 - val_accuracy: 0.5694\n",
      "Epoch 64/100\n",
      "251/251 [==============================] - 1s 3ms/step - loss: 0.6742 - accuracy: 0.5547 - val_loss: 0.6712 - val_accuracy: 0.5694\n",
      "Epoch 65/100\n",
      "251/251 [==============================] - 1s 3ms/step - loss: 0.6738 - accuracy: 0.5547 - val_loss: 0.6719 - val_accuracy: 0.5694\n",
      "Epoch 66/100\n",
      "251/251 [==============================] - 1s 3ms/step - loss: 0.6740 - accuracy: 0.5547 - val_loss: 0.6707 - val_accuracy: 0.5694\n",
      "Epoch 67/100\n",
      "251/251 [==============================] - 1s 3ms/step - loss: 0.6737 - accuracy: 0.5547 - val_loss: 0.6721 - val_accuracy: 0.5694\n",
      "Epoch 68/100\n",
      "251/251 [==============================] - 1s 2ms/step - loss: 0.6742 - accuracy: 0.5547 - val_loss: 0.6710 - val_accuracy: 0.5694\n",
      "Epoch 69/100\n",
      "251/251 [==============================] - 1s 3ms/step - loss: 0.6736 - accuracy: 0.5547 - val_loss: 0.6704 - val_accuracy: 0.5694\n",
      "Epoch 70/100\n",
      "251/251 [==============================] - 1s 3ms/step - loss: 0.6740 - accuracy: 0.5547 - val_loss: 0.6703 - val_accuracy: 0.5694\n",
      "Epoch 71/100\n",
      "251/251 [==============================] - 1s 3ms/step - loss: 0.6740 - accuracy: 0.5547 - val_loss: 0.6704 - val_accuracy: 0.5694\n",
      "Epoch 72/100\n",
      "251/251 [==============================] - 1s 2ms/step - loss: 0.6739 - accuracy: 0.5548 - val_loss: 0.6706 - val_accuracy: 0.5694\n",
      "Epoch 73/100\n",
      "251/251 [==============================] - 1s 3ms/step - loss: 0.6740 - accuracy: 0.5546 - val_loss: 0.6700 - val_accuracy: 0.5699\n",
      "Epoch 74/100\n",
      "251/251 [==============================] - 1s 3ms/step - loss: 0.6791 - accuracy: 0.5551 - val_loss: 0.6706 - val_accuracy: 0.5699\n",
      "Epoch 75/100\n",
      "251/251 [==============================] - 1s 2ms/step - loss: 0.6728 - accuracy: 0.5550 - val_loss: 0.6703 - val_accuracy: 0.5699\n",
      "Epoch 76/100\n",
      "251/251 [==============================] - 1s 3ms/step - loss: 0.6742 - accuracy: 0.5553 - val_loss: 0.6719 - val_accuracy: 0.5699\n",
      "Epoch 77/100\n",
      "251/251 [==============================] - 1s 3ms/step - loss: 0.6736 - accuracy: 0.5553 - val_loss: 0.6704 - val_accuracy: 0.5704\n",
      "Epoch 78/100\n",
      "251/251 [==============================] - 1s 3ms/step - loss: 0.6732 - accuracy: 0.5555 - val_loss: 0.6701 - val_accuracy: 0.5704\n",
      "Epoch 79/100\n",
      "251/251 [==============================] - 1s 2ms/step - loss: 0.6739 - accuracy: 0.5552 - val_loss: 0.6698 - val_accuracy: 0.5699\n",
      "Epoch 80/100\n",
      "251/251 [==============================] - 1s 2ms/step - loss: 0.6742 - accuracy: 0.5552 - val_loss: 0.6703 - val_accuracy: 0.5704\n",
      "Epoch 81/100\n",
      "251/251 [==============================] - 1s 3ms/step - loss: 0.6736 - accuracy: 0.5552 - val_loss: 0.6700 - val_accuracy: 0.5704\n",
      "Epoch 82/100\n",
      "251/251 [==============================] - 1s 2ms/step - loss: 0.6738 - accuracy: 0.5555 - val_loss: 0.6697 - val_accuracy: 0.5704\n",
      "Epoch 83/100\n",
      "251/251 [==============================] - 1s 2ms/step - loss: 0.6732 - accuracy: 0.5555 - val_loss: 0.6700 - val_accuracy: 0.5704\n",
      "Epoch 84/100\n",
      "251/251 [==============================] - 1s 3ms/step - loss: 0.6731 - accuracy: 0.5555 - val_loss: 0.6695 - val_accuracy: 0.5704\n",
      "Epoch 85/100\n",
      "251/251 [==============================] - 1s 2ms/step - loss: 0.6732 - accuracy: 0.5555 - val_loss: 0.6700 - val_accuracy: 0.5704\n",
      "Epoch 86/100\n",
      "251/251 [==============================] - 1s 2ms/step - loss: 0.6738 - accuracy: 0.5555 - val_loss: 0.6695 - val_accuracy: 0.5704\n",
      "Epoch 87/100\n",
      "251/251 [==============================] - 1s 2ms/step - loss: 0.6768 - accuracy: 0.5555 - val_loss: 0.6701 - val_accuracy: 0.5704\n",
      "Epoch 88/100\n",
      "251/251 [==============================] - 1s 2ms/step - loss: 0.6738 - accuracy: 0.5552 - val_loss: 0.6713 - val_accuracy: 0.5699\n",
      "Epoch 89/100\n",
      "251/251 [==============================] - 1s 3ms/step - loss: 0.6727 - accuracy: 0.5552 - val_loss: 0.6702 - val_accuracy: 0.5704\n",
      "Epoch 90/100\n",
      "251/251 [==============================] - 1s 3ms/step - loss: 0.6733 - accuracy: 0.5553 - val_loss: 0.6691 - val_accuracy: 0.5704\n",
      "Epoch 91/100\n",
      "251/251 [==============================] - 1s 3ms/step - loss: 0.6730 - accuracy: 0.5553 - val_loss: 0.6694 - val_accuracy: 0.5704\n",
      "Epoch 92/100\n",
      "251/251 [==============================] - 1s 3ms/step - loss: 0.6729 - accuracy: 0.5555 - val_loss: 0.6692 - val_accuracy: 0.5704\n",
      "Epoch 93/100\n",
      "251/251 [==============================] - 1s 3ms/step - loss: 0.6734 - accuracy: 0.5553 - val_loss: 0.6698 - val_accuracy: 0.5704\n",
      "Epoch 94/100\n",
      "251/251 [==============================] - 1s 3ms/step - loss: 0.6732 - accuracy: 0.5555 - val_loss: 0.6689 - val_accuracy: 0.5704\n",
      "Epoch 95/100\n",
      "251/251 [==============================] - 1s 3ms/step - loss: 0.6733 - accuracy: 0.5555 - val_loss: 0.6697 - val_accuracy: 0.5704\n",
      "Epoch 96/100\n",
      "251/251 [==============================] - 1s 3ms/step - loss: 0.6728 - accuracy: 0.5553 - val_loss: 0.6698 - val_accuracy: 0.5704\n",
      "Epoch 97/100\n",
      "251/251 [==============================] - 1s 3ms/step - loss: 0.6732 - accuracy: 0.5556 - val_loss: 0.6700 - val_accuracy: 0.5704\n",
      "Epoch 98/100\n",
      "251/251 [==============================] - 1s 2ms/step - loss: 0.6729 - accuracy: 0.5555 - val_loss: 0.6697 - val_accuracy: 0.5704\n",
      "Epoch 99/100\n",
      "251/251 [==============================] - 1s 3ms/step - loss: 0.6725 - accuracy: 0.5556 - val_loss: 0.6698 - val_accuracy: 0.5704\n",
      "Epoch 100/100\n",
      "251/251 [==============================] - 1s 3ms/step - loss: 0.6734 - accuracy: 0.5555 - val_loss: 0.6690 - val_accuracy: 0.5704\n"
     ]
    },
    {
     "data": {
      "text/plain": [
       "<keras.callbacks.History at 0x21ddb715cd0>"
      ]
     },
     "execution_count": 263,
     "metadata": {},
     "output_type": "execute_result"
    }
   ],
   "source": [
    "#Fit oversampled data to neural network model\n",
    "model.fit(X_train3, y_train3, epochs = 100, batch_size = 32, validation_data = (X_test3, y_test3))"
   ]
  },
  {
   "cell_type": "code",
   "execution_count": 277,
   "id": "2c5be65f-7f7e-480c-8476-ca3b551136ab",
   "metadata": {},
   "outputs": [
    {
     "name": "stdout",
     "output_type": "stream",
     "text": [
      "63/63 [==============================] - 0s 1ms/step\n"
     ]
    }
   ],
   "source": [
    "#Create predictions with neural network. Create a threshold of 0.5\n",
    "y_pred_nn = model.predict(X_test3)\n",
    "y_pred_binary = [1 if pred > 0.5 else 0 for pred in y_pred_nn]"
   ]
  },
  {
   "cell_type": "code",
   "execution_count": 278,
   "id": "667c9760-0964-428c-b284-22876f7e354f",
   "metadata": {},
   "outputs": [
    {
     "data": {
      "text/plain": [
       "0.5704295704295704"
      ]
     },
     "execution_count": 278,
     "metadata": {},
     "output_type": "execute_result"
    }
   ],
   "source": [
    "#Print accuracy\n",
    "accuracy_score(y_test3, y_pred_binary)"
   ]
  },
  {
   "cell_type": "code",
   "execution_count": 279,
   "id": "4673ba5c-9efd-482d-a87b-774219d9a0a4",
   "metadata": {},
   "outputs": [
    {
     "data": {
      "text/plain": [
       "array([[988,  28],\n",
       "       [832, 154]], dtype=int64)"
      ]
     },
     "execution_count": 279,
     "metadata": {},
     "output_type": "execute_result"
    }
   ],
   "source": [
    "#Print confusion matrix\n",
    "confusion_matrix(y_test3, y_pred_binary)"
   ]
  },
  {
   "cell_type": "code",
   "execution_count": null,
   "id": "f7ff7d80-b3c4-4f79-a1f3-0b46b859e286",
   "metadata": {},
   "outputs": [],
   "source": []
  }
 ],
 "metadata": {
  "kernelspec": {
   "display_name": "Python 3 (ipykernel)",
   "language": "python",
   "name": "python3"
  },
  "language_info": {
   "codemirror_mode": {
    "name": "ipython",
    "version": 3
   },
   "file_extension": ".py",
   "mimetype": "text/x-python",
   "name": "python",
   "nbconvert_exporter": "python",
   "pygments_lexer": "ipython3",
   "version": "3.9.18"
  }
 },
 "nbformat": 4,
 "nbformat_minor": 5
}
