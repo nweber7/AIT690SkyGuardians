{
 "cells": [
  {
   "cell_type": "code",
   "execution_count": null,
   "id": "e0c3a8e9",
   "metadata": {},
   "outputs": [],
   "source": [
    "#Add this cell to 'Adding Conversions to Dataframe' section before the 'Filter Dataset Section'\n",
    "\n",
    "df_std['day_of_year'] = df_std['month'].astype(str) + '-' + df_std['day'].astype(str)\n",
    "\n",
    "# Group by 'day_of_year' and 'year', and check if 'ISSC' was 'yes'\n",
    "issc_presence = df_std.groupby(['day_of_year', 'year'])['issc'].apply(lambda x: (x == 'yes').any()).reset_index(name='issc_yes')\n",
    "\n",
    "# Count how many years had 'ISSC' marked as 'yes' for each day_of_year\n",
    "issc_yes_count = issc_presence.groupby('day_of_year')['issc_yes'].sum()\n",
    "\n",
    "# Calculate the total number of observed years for each day_of_year\n",
    "total_years_observed = issc_presence.groupby('day_of_year')['year'].nunique()\n",
    "\n",
    "# Calculate 'volume'\n",
    "volume_ratio = issc_yes_count / total_years_observed\n",
    "\n",
    "# Convert volume_ratio Series to a DataFrame for merging\n",
    "volume_df = volume_ratio.reset_index(name='volume')\n",
    "\n",
    "df_std = pd.merge(df_std, volume_df, on='day_of_year', how='left')\n",
    "df_std"
   ]
  }
 ],
 "metadata": {
  "kernelspec": {
   "display_name": "Python 3 (ipykernel)",
   "language": "python",
   "name": "python3"
  },
  "language_info": {
   "codemirror_mode": {
    "name": "ipython",
    "version": 3
   },
   "file_extension": ".py",
   "mimetype": "text/x-python",
   "name": "python",
   "nbconvert_exporter": "python",
   "pygments_lexer": "ipython3",
   "version": "3.9.7"
  }
 },
 "nbformat": 4,
 "nbformat_minor": 5
}
